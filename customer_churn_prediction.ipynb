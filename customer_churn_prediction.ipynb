{
  "nbformat": 4,
  "nbformat_minor": 0,
  "metadata": {
    "colab": {
      "provenance": [],
      "authorship_tag": "ABX9TyOQuHgEe+8PHDR7cSYotHrU",
      "include_colab_link": true
    },
    "kernelspec": {
      "name": "python3",
      "display_name": "Python 3"
    },
    "language_info": {
      "name": "python"
    }
  },
  "cells": [
    {
      "cell_type": "markdown",
      "metadata": {
        "id": "view-in-github",
        "colab_type": "text"
      },
      "source": [
        "<a href=\"https://colab.research.google.com/github/MeghanaRudra20/AFame-technologies/blob/main/customer_churn_prediction.ipynb\" target=\"_parent\"><img src=\"https://colab.research.google.com/assets/colab-badge.svg\" alt=\"Open In Colab\"/></a>"
      ]
    },
    {
      "cell_type": "code",
      "execution_count": 3,
      "metadata": {
        "colab": {
          "base_uri": "https://localhost:8080/"
        },
        "id": "Y2E-YzNj0oZ2",
        "outputId": "3a545833-0f84-433d-cc65-5854bcda8218"
      },
      "outputs": [
        {
          "output_type": "stream",
          "name": "stdout",
          "text": [
            "\n",
            "Gradient Boosting:\n",
            "Best Parameters: {'learning_rate': 0.1, 'max_depth': 5, 'n_estimators': 50}\n",
            "Accuracy: 0.8655\n",
            "Classification Report:\n",
            "               precision    recall  f1-score   support\n",
            "\n",
            "           0       0.88      0.96      0.92      1607\n",
            "           1       0.76      0.46      0.58       393\n",
            "\n",
            "    accuracy                           0.87      2000\n",
            "   macro avg       0.82      0.71      0.75      2000\n",
            "weighted avg       0.86      0.87      0.85      2000\n",
            "\n"
          ]
        }
      ],
      "source": [
        "import pandas as pd\n",
        "from sklearn.model_selection import train_test_split, GridSearchCV\n",
        "from sklearn.preprocessing import LabelEncoder, StandardScaler\n",
        "from sklearn.ensemble import GradientBoostingClassifier\n",
        "from sklearn.metrics import accuracy_score, classification_report\n",
        "\n",
        "# Load dataset\n",
        "data = pd.read_csv(\"/content/Churn_Modelling.csv\")\n",
        "\n",
        "# Drop irrelevant columns like RowNumber, CustomerId, and Surname\n",
        "data = data.drop(columns=[\"RowNumber\", \"CustomerId\", \"Surname\"])\n",
        "\n",
        "# Encode categorical variables\n",
        "label_encoder = LabelEncoder()\n",
        "data['Geography'] = label_encoder.fit_transform(data['Geography'])\n",
        "data['Gender'] = label_encoder.fit_transform(data['Gender'])\n",
        "\n",
        "# Split dataset into features and target variable\n",
        "X = data.drop(columns=[\"Exited\"])\n",
        "y = data[\"Exited\"]\n",
        "\n",
        "# Split data into train and test sets\n",
        "X_train, X_test, y_train, y_test = train_test_split(X, y, test_size=0.2, random_state=42)\n",
        "\n",
        "# Feature scaling\n",
        "scaler = StandardScaler()\n",
        "X_train = scaler.fit_transform(X_train)\n",
        "X_test = scaler.transform(X_test)\n",
        "\n",
        "# Initialize Gradient Boosting Classifier\n",
        "gb_classifier = GradientBoostingClassifier(random_state=42)\n",
        "\n",
        "# Define parameter grid for hyperparameter tuning\n",
        "param_grid_gb = {'n_estimators': [50, 100, 200], 'learning_rate': [0.01, 0.1, 0.5], 'max_depth': [3, 5, 7]}\n",
        "\n",
        "# Initialize GridSearchCV\n",
        "grid_search_gb = GridSearchCV(gb_classifier, param_grid_gb, cv=5)\n",
        "\n",
        "# Fit the model\n",
        "grid_search_gb.fit(X_train, y_train)\n",
        "\n",
        "# Predictions\n",
        "y_pred_gb = grid_search_gb.predict(X_test)\n",
        "\n",
        "# Evaluate the model\n",
        "print(\"\\nGradient Boosting:\")\n",
        "print(\"Best Parameters:\", grid_search_gb.best_params_)\n",
        "print(\"Accuracy:\", accuracy_score(y_test, y_pred_gb))\n",
        "print(\"Classification Report:\\n\", classification_report(y_test, y_pred_gb))\n"
      ]
    }
  ]
}